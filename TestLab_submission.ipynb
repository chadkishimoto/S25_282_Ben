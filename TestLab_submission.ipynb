{
 "cells": [
  {
   "cell_type": "markdown",
   "id": "5151d084-92e2-46a2-b40a-10bbd0e8d1a2",
   "metadata": {},
   "source": [
    "## Replace this text with your name"
   ]
  },
  {
   "cell_type": "markdown",
   "id": "0d7d0ecb-9aef-4ef0-bb37-27079b171415",
   "metadata": {},
   "source": [
    "In the cell below, include your ``import`` statements"
   ]
  },
  {
   "cell_type": "code",
   "execution_count": null,
   "id": "9f825be8-75ad-41d0-8ee0-9be55b9a1a88",
   "metadata": {},
   "outputs": [],
   "source": []
  },
  {
   "cell_type": "markdown",
   "id": "7fe0fe59-7c5d-4af6-9387-da5770e03df6",
   "metadata": {},
   "source": [
    "copy-and-paste your functions in the cell below"
   ]
  },
  {
   "cell_type": "code",
   "execution_count": null,
   "id": "ee558117-627d-46bd-b94d-dc17a74e3d01",
   "metadata": {},
   "outputs": [],
   "source": []
  },
  {
   "cell_type": "markdown",
   "id": "e197f6a9-8f01-4cc6-a43c-454ca89459db",
   "metadata": {},
   "source": [
    "Use the single cell below to call your function **three** times, with three different inputs. One of which is negative."
   ]
  },
  {
   "cell_type": "code",
   "execution_count": null,
   "id": "5679f518-48f0-42ea-b111-eba197eb1b46",
   "metadata": {},
   "outputs": [],
   "source": []
  },
  {
   "cell_type": "markdown",
   "id": "2366aa8a-5c0d-48ec-b287-c45334fb12f7",
   "metadata": {},
   "source": [
    "Confirm that this all works by using ``Kernel > Restart Kernel and Run All Cells...``"
   ]
  },
  {
   "cell_type": "markdown",
   "id": "c326855e-491d-4d95-a6e0-e94b673b3c40",
   "metadata": {},
   "source": [
    "When you are happy with your results, you will submit by uploading this file on Github on your branch."
   ]
  }
 ],
 "metadata": {
  "kernelspec": {
   "display_name": "Python 3 (ipykernel)",
   "language": "python",
   "name": "python3"
  },
  "language_info": {
   "codemirror_mode": {
    "name": "ipython",
    "version": 3
   },
   "file_extension": ".py",
   "mimetype": "text/x-python",
   "name": "python",
   "nbconvert_exporter": "python",
   "pygments_lexer": "ipython3",
   "version": "3.12.7"
  }
 },
 "nbformat": 4,
 "nbformat_minor": 5
}
